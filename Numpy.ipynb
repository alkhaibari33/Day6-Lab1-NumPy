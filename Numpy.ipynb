{
 "cells": [
  {
   "cell_type": "code",
   "execution_count": 37,
   "id": "866658a6",
   "metadata": {},
   "outputs": [],
   "source": [
    "import numpy as np\n"
   ]
  },
  {
   "cell_type": "code",
   "execution_count": 45,
   "id": "e23677d3",
   "metadata": {},
   "outputs": [
    {
     "name": "stdout",
     "output_type": "stream",
     "text": [
      "[[1. 1. 1.]\n",
      " [1. 1. 1.]\n",
      " [1. 1. 1.]]\n"
     ]
    }
   ],
   "source": [
    "x = np.ones((3, 3))\n",
    "\n",
    "print(x)"
   ]
  },
  {
   "cell_type": "code",
   "execution_count": 44,
   "id": "05d70612",
   "metadata": {},
   "outputs": [
    {
     "name": "stdout",
     "output_type": "stream",
     "text": [
      "[[0. 0. 0.]\n",
      " [0. 0. 0.]\n",
      " [0. 0. 0.]]\n"
     ]
    }
   ],
   "source": [
    "y = np.zeros((3, 3))\n",
    "print(y)\n",
    "\n"
   ]
  },
  {
   "cell_type": "code",
   "execution_count": 42,
   "id": "fb497cbc",
   "metadata": {},
   "outputs": [
    {
     "data": {
      "text/plain": [
       "dtype('float64')"
      ]
     },
     "execution_count": 42,
     "metadata": {},
     "output_type": "execute_result"
    }
   ],
   "source": [
    "x.dtype\n"
   ]
  },
  {
   "cell_type": "code",
   "execution_count": 46,
   "id": "db11de75",
   "metadata": {},
   "outputs": [
    {
     "data": {
      "text/plain": [
       "dtype('float64')"
      ]
     },
     "execution_count": 46,
     "metadata": {},
     "output_type": "execute_result"
    }
   ],
   "source": [
    "y.dtype\n"
   ]
  },
  {
   "cell_type": "code",
   "execution_count": 48,
   "id": "9f3d4de1",
   "metadata": {},
   "outputs": [
    {
     "data": {
      "text/plain": [
       "array([[11, 13, 15],\n",
       "       [12, 14, 16]])"
      ]
     },
     "execution_count": 48,
     "metadata": {},
     "output_type": "execute_result"
    }
   ],
   "source": [
    "#Create a 2D array \"called w\" as the following:\n",
    "w = np.array([[11, 13, 15],[12, 14, 16]])\n",
    "w\n",
    "#np.arange(0, 10)\n",
    "#np.arange(0, 10)"
   ]
  },
  {
   "cell_type": "code",
   "execution_count": 50,
   "id": "595d67e8",
   "metadata": {},
   "outputs": [
    {
     "data": {
      "text/plain": [
       "array([[1, 2, 3]])"
      ]
     },
     "execution_count": 50,
     "metadata": {},
     "output_type": "execute_result"
    }
   ],
   "source": [
    "#Q#6: Create z array contains the numbers from 1 to 3.\n",
    "z = np.array([[1, 2, 3]])\n",
    "z"
   ]
  },
  {
   "cell_type": "code",
   "execution_count": null,
   "id": "2baf5c9a",
   "metadata": {},
   "outputs": [],
   "source": [
    "#Q#7: Combine the arrays z and w in vertical way then save it in a new variable \"newArray\".\n",
    "w = np.array([[11, 13, 15],[12, 14, 16]])\n",
    "\n",
    "z = np.array([[1, 2, 3]])\n",
    "\n",
    "newArray = np.concatenate((w, z))\n",
    "\n",
    "print(newArray)\n",
    "\n",
    "\n",
    "\n",
    "#newArray = a.shape = (3, 4)"
   ]
  },
  {
   "cell_type": "code",
   "execution_count": null,
   "id": "ac793b37",
   "metadata": {},
   "outputs": [],
   "source": [
    "#Q#8: Print all elements of \"newArray\" using the loop.\n",
    "for newArray in a:\n",
    "    print(newArray)"
   ]
  },
  {
   "cell_type": "code",
   "execution_count": null,
   "id": "44c2a074",
   "metadata": {},
   "outputs": [],
   "source": [
    "#9: Reverse the columns and rows of \"newArray\".\n",
    "newArray.ravel()"
   ]
  },
  {
   "cell_type": "code",
   "execution_count": null,
   "id": "2ae7052a",
   "metadata": {},
   "outputs": [],
   "source": [
    "#Q#10: Decrement all elements of \"newArray\" with 1.\n",
    "newArray = np.arange(4)\n",
    "newArray"
   ]
  },
  {
   "cell_type": "code",
   "execution_count": null,
   "id": "d6435459",
   "metadata": {},
   "outputs": [],
   "source": [
    "#Find smallest and biggest values in \"newArray\"\n",
    "a.min"
   ]
  },
  {
   "cell_type": "code",
   "execution_count": null,
   "id": "2c5e976c",
   "metadata": {},
   "outputs": [],
   "source": [
    "#Print the first row of \"newArray\" using indexing.\n",
    "newArray = np.arange()\n",
    "newArray"
   ]
  },
  {
   "cell_type": "code",
   "execution_count": null,
   "id": "0876ea7b",
   "metadata": {},
   "outputs": [],
   "source": [
    "#Print the number equals 12 of \"newArray\" using indexing.\n",
    "a[::12]"
   ]
  },
  {
   "cell_type": "code",
   "execution_count": null,
   "id": "e5b85b81",
   "metadata": {},
   "outputs": [],
   "source": [
    "#Q#14: Print the numbers equal 0 and 13 of \"newArray\" using Slicing\n",
    "A[[0,13]]"
   ]
  },
  {
   "cell_type": "code",
   "execution_count": null,
   "id": "d46e53f5",
   "metadata": {},
   "outputs": [],
   "source": [
    "#Q#15: Change the shape of \"newArray\" to (9,1).\n",
    "np.reshape(9, 1)"
   ]
  },
  {
   "cell_type": "code",
   "execution_count": null,
   "id": "2fccad07",
   "metadata": {},
   "outputs": [],
   "source": [
    "#Q#16: Change the shape of \"newArray\" to (3,2).\n"
   ]
  }
 ],
 "metadata": {
  "kernelspec": {
   "display_name": "Python 3 (ipykernel)",
   "language": "python",
   "name": "python3"
  },
  "language_info": {
   "codemirror_mode": {
    "name": "ipython",
    "version": 3
   },
   "file_extension": ".py",
   "mimetype": "text/x-python",
   "name": "python",
   "nbconvert_exporter": "python",
   "pygments_lexer": "ipython3",
   "version": "3.9.12"
  }
 },
 "nbformat": 4,
 "nbformat_minor": 5
}
